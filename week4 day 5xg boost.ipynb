{
 "cells": [
  {
   "cell_type": "code",
   "execution_count": 15,
   "id": "c597254a",
   "metadata": {},
   "outputs": [
    {
     "name": "stdout",
     "output_type": "stream",
     "text": [
      "Requirement already satisfied: xgboost in c:\\users\\uppal\\anaconda3\\lib\\site-packages (2.1.4)\n",
      "Requirement already satisfied: scipy in c:\\users\\uppal\\anaconda3\\lib\\site-packages (from xgboost) (1.7.1)\n",
      "Requirement already satisfied: numpy in c:\\users\\uppal\\anaconda3\\lib\\site-packages (from xgboost) (1.22.4)✅ Loading and Preprocessing Data...\n",
      "\n"
     ]
    },
    {
     "name": "stderr",
     "output_type": "stream",
     "text": [
      "WARNING: You are using pip version 21.3.1; however, version 25.0.1 is available.\n",
      "You should consider upgrading via the 'C:\\Users\\uppal\\anaconda3\\python.exe -m pip install --upgrade pip' command.\n"
     ]
    },
    {
     "name": "stdout",
     "output_type": "stream",
     "text": [
      "Dataset loaded successfully!\n",
      "0    9984\n",
      "1      16\n",
      "Name: Class, dtype: int64\n",
      "Memory Usage: 84.5% | Available: 1223.25 MB\n",
      "✅ Training XGBoost Model...\n"
     ]
    },
    {
     "name": "stderr",
     "output_type": "stream",
     "text": [
      "C:\\Users\\uppal\\anaconda3\\lib\\site-packages\\xgboost\\core.py:158: UserWarning: [10:42:54] WARNING: C:\\buildkite-agent\\builds\\buildkite-windows-cpu-autoscaling-group-i-08cbc0333d8d4aae1-1\\xgboost\\xgboost-ci-windows\\src\\learner.cc:740: \n",
      "Parameters: { \"use_label_encoder\" } are not used.\n",
      "\n",
      "  warnings.warn(smsg, UserWarning)\n"
     ]
    },
    {
     "name": "stdout",
     "output_type": "stream",
     "text": [
      "Memory Usage: 85.5% | Available: 1144.00 MB\n",
      "✅ Evaluating XGBoost...\n",
      "\n",
      "--- XGBoost Classifier ---\n",
      "Precision: 1.0000\n",
      "Recall: 0.6667\n",
      "F1-score: 0.8000\n",
      "AUC-ROC: 0.8333\n",
      "✅ Confusion Matrix...\n"
     ]
    },
    {
     "data": {
      "image/png": "[encoded data removed]",
      "text/plain": [
       "<Figure size 432x288 with 2 Axes>"
      ]
     },
     "metadata": {
      "needs_background": "light"
     },
     "output_type": "display_data"
    },
    {
     "name": "stdout",
     "output_type": "stream",
     "text": [
      "✅ Saving Results...\n",
      "Results saved to: creditcard_fraud_xgboost_results.csv\n"
     ]
    }
   ],
   "source": [
    "!pip install xgboost\n",
    "# -------------------------------------\n",
    "# 📥 Import Libraries\n",
    "# -------------------------------------\n",
    "import pandas as pd\n",
    "import numpy as np\n",
    "import matplotlib.pyplot as plt\n",
    "from sklearn.preprocessing import MinMaxScaler\n",
    "from sklearn.model_selection import train_test_split\n",
    "from sklearn.metrics import precision_recall_fscore_support, roc_auc_score, confusion_matrix\n",
    "import xgboost as xgb\n",
    "import seaborn as sns\n",
    "import psutil\n",
    "\n",
    "# -------------------------------------\n",
    "# 📂 Load and Preprocess Dataset\n",
    "# -------------------------------------\n",
    "print(\"✅ Loading and Preprocessing Data...\")\n",
    "\n",
    "file_path = r\"D:\\Website Codes\\creditcard.csv\\creditcard.csv\"\n",
    "data = pd.read_csv(file_path).sample(n=10000, random_state=42)\n",
    "\n",
    "print(\"Dataset loaded successfully!\")\n",
    "print(data['Class'].value_counts())\n",
    "\n",
    "# Separate features and labels\n",
    "X = data.drop(columns=['Class'])\n",
    "y = data['Class']\n",
    "\n",
    "# Normalize the data\n",
    "scaler = MinMaxScaler()\n",
    "X_scaled = scaler.fit_transform(X)\n",
    "\n",
    "# Train-test split\n",
    "X_train, X_test, y_train, y_test = train_test_split(X_scaled, y, test_size=0.2, random_state=42)\n",
    "\n",
    "# Memory log\n",
    "def log_memory_usage():\n",
    "    mem = psutil.virtual_memory()\n",
    "    print(f\"Memory Usage: {mem.percent}% | Available: {mem.available / 1024 ** 2:.2f} MB\")\n",
    "\n",
    "log_memory_usage()\n",
    "\n",
    "# -------------------------------------\n",
    "# 🚀 Train XGBoost Classifier\n",
    "# -------------------------------------\n",
    "print(\"✅ Training XGBoost Model...\")\n",
    "\n",
    "xgb_clf = xgb.XGBClassifier(\n",
    "    scale_pos_weight= (y == 0).sum() / (y == 1).sum(),  # handle class imbalance\n",
    "    max_depth=6,\n",
    "    learning_rate=0.1,\n",
    "    n_estimators=100,\n",
    "    use_label_encoder=False,\n",
    "    eval_metric='logloss',\n",
    "    random_state=42\n",
    ")\n",
    "\n",
    "xgb_clf.fit(X_train, y_train)\n",
    "y_pred_xgb = xgb_clf.predict(X_test)\n",
    "\n",
    "log_memory_usage()\n",
    "\n",
    "# -------------------------------------\n",
    "# ✅ Evaluation\n",
    "# -------------------------------------\n",
    "print(\"✅ Evaluating XGBoost...\")\n",
    "\n",
    "def evaluate_model(y_true, y_pred, model_name):\n",
    "    precision, recall, f1, _ = precision_recall_fscore_support(y_true, y_pred, average='binary')\n",
    "    pr_auc = roc_auc_score(y_true, y_pred)\n",
    "\n",
    "    print(f\"\\n--- {model_name} ---\")\n",
    "    print(f\"Precision: {precision:.4f}\")\n",
    "    print(f\"Recall: {recall:.4f}\")\n",
    "    print(f\"F1-score: {f1:.4f}\")\n",
    "    print(f\"AUC-ROC: {pr_auc:.4f}\")\n",
    "\n",
    "    return precision, recall, f1, pr_auc\n",
    "\n",
    "xgb_metrics = evaluate_model(y_test, y_pred_xgb, \"XGBoost Classifier\")\n",
    "\n",
    "# -------------------------------------\n",
    "# 📊 Confusion Matrix\n",
    "# -------------------------------------\n",
    "print(\"✅ Confusion Matrix...\")\n",
    "\n",
    "conf_matrix = confusion_matrix(y_test, y_pred_xgb)\n",
    "plt.figure(figsize=(6, 4))\n",
    "sns.heatmap(conf_matrix, annot=True, fmt='d', cmap='Blues')\n",
    "plt.xlabel('Predicted')\n",
    "plt.ylabel('True')\n",
    "plt.title('XGBoost Confusion Matrix')\n",
    "plt.show()\n",
    "\n",
    "# -------------------------------------\n",
    "# 📉 Save Results to CSV\n",
    "# -------------------------------------\n",
    "print(\"✅ Saving Results...\")\n",
    "\n",
    "results = pd.DataFrame({\n",
    "    \"True_Label\": y_test,\n",
    "    \"XGBoost_Prediction\": y_pred_xgb\n",
    "})\n",
    "results.to_csv(\"creditcard_fraud_xgboost_results.csv\", index=False)\n",
    "print(\"Results saved to: creditcard_fraud_xgboost_results.csv\")\n"
   ]
  },
  {
   "cell_type": "code",
   "execution_count": null,
   "id": "ef9d7887",
   "metadata": {},
   "outputs": [],
   "source": [
    "\n"
   ]
  },
  {
   "cell_type": "code",
   "execution_count": null,
   "id": "2b11753a",
   "metadata": {},
   "outputs": [],
   "source": []
  },
  {
   "cell_type": "code",
   "execution_count": null,
   "id": "3604ce49",
   "metadata": {},
   "outputs": [],
   "source": []
  }
 ],
 "metadata": {
  "kernelspec": {
   "display_name": "Python 3 (ipykernel)",
   "language": "python",
   "name": "python3"
  },
  "language_info": {
   "codemirror_mode": {
    "name": "ipython",
    "version": 3
   },
   "file_extension": ".py",
   "mimetype": "text/x-python",
   "name": "python",
   "nbconvert_exporter": "python",
   "pygments_lexer": "ipython3",
   "version": "3.9.7"
  }
 },
 "nbformat": 4,
 "nbformat_minor": 5
}
